{
 "cells": [
  {
   "cell_type": "markdown",
   "metadata": {
    "slideshow": {
     "slide_type": "slide"
    }
   },
   "source": [
    "# Prosper Loan Data Exploration\n",
    "## by Mohanad Salem"
   ]
  },
  {
   "cell_type": "markdown",
   "metadata": {
    "slideshow": {
     "slide_type": "slide"
    }
   },
   "source": [
    "## Investigation Overview\n",
    "\n",
    "\n",
    "I chose the univariate plots to be the Loan status, employment status and the stated monthly income.\n",
    "The bivariate to be the Loan Status vs Loan Amount and Loan Status vs Prosper Rating. \n",
    "Finally, in the multivariate phase I plotted (Listing Categories vs Loan Amount vs Loan Status) and (Listing Categories vs Prosper Rating vs Loan Status)\n",
    "\n",
    "\n",
    "## Dataset Overview\n",
    "\n",
    "Loan Data from Prosper: This data set contains 113,937 loans with 81 variables on each loan, \n",
    "including loan amount, employment status, current loan status, borrower income, \n",
    "and many others."
   ]
  },
  {
   "cell_type": "code",
   "execution_count": null,
   "metadata": {
    "slideshow": {
     "slide_type": "skip"
    }
   },
   "outputs": [],
   "source": [
    "# import all packages and set plots to be embedded inline\n",
    "import numpy as np\n",
    "import pandas as pd\n",
    "import matplotlib.pyplot as plt\n",
    "import seaborn as sb\n",
    "\n",
    "%matplotlib inline\n",
    "\n",
    "# suppress warnings from final output\n",
    "import warnings\n",
    "warnings.simplefilter(\"ignore\")"
   ]
  },
  {
   "cell_type": "code",
   "execution_count": null,
   "metadata": {
    "slideshow": {
     "slide_type": "skip"
    }
   },
   "outputs": [],
   "source": [
    "# load in the dataset into a pandas dataframe\n",
    "df= pd.read_csv('D:/Udacity Projects/Communicate your findings/Project Template/prosperLoanData.csv')"
   ]
  },
  {
   "cell_type": "code",
   "execution_count": null,
   "metadata": {
    "slideshow": {
     "slide_type": "skip"
    }
   },
   "outputs": [],
   "source": [
    "project_columns =  ['BorrowerRate', 'ProsperRating (Alpha)', 'ListingCategory (numeric)', 'EmploymentStatus',\n",
    "                   'StatedMonthlyIncome', 'TotalProsperLoans', 'LoanOriginalAmount',\n",
    "                   'LoanOriginationDate','Term', 'LoanStatus']\n",
    "\n",
    "project_df= df[project_columns]\n",
    "project_df.dropna(inplace=True)\n",
    "\n",
    "# change LoanOriginationDate column to datetime data type \n",
    "project_df['LoanOriginationDate'] = pd.to_datetime(project_df['LoanOriginationDate'])"
   ]
  },
  {
   "cell_type": "code",
   "execution_count": null,
   "metadata": {
    "slideshow": {
     "slide_type": "skip"
    }
   },
   "outputs": [],
   "source": [
    "def cat_bar_plot(df, column, gen_order): # defining a function that plots a bar for a categorical univariate\n",
    "\n",
    "    base_color= sb.color_palette()[0] # choosing the color\n",
    "    plt.xticks(rotation= 90) # rotating the xticks so they can be readable\n",
    "    sb.countplot(data=df, x= column, color=base_color, order=gen_order); # plotting the bars\n",
    "    plt.title(column)"
   ]
  },
  {
   "cell_type": "markdown",
   "metadata": {
    "slideshow": {
     "slide_type": "slide"
    }
   },
   "source": [
    "## Loan Status\n",
    "\n",
    "1st Observation:\n",
    "\n",
    "* I can see here that most of the loans are current.\n",
    "* Also a high amount of the loans are completed.\n",
    "* The charged off loans are low but not as low as the defaulted loans.\n",
    "* lastly we have the past due loans which are split into groups based on a range of days"
   ]
  },
  {
   "cell_type": "code",
   "execution_count": null,
   "metadata": {
    "slideshow": {
     "slide_type": "skip"
    }
   },
   "outputs": [],
   "source": [
    "_order= ['Completed','FinalPaymentInProgress', 'Current', 'Past Due (1-15 days)',\n",
    "            'Past Due (16-30 days)', 'Past Due (31-60 days)',\n",
    "            'Past Due (61-90 days)', 'Past Due (91-120 days)', \n",
    "            'Past Due (>120 days)','Defaulted', 'Chargedoff']"
   ]
  },
  {
   "cell_type": "code",
   "execution_count": null,
   "metadata": {
    "slideshow": {
     "slide_type": "slide"
    }
   },
   "outputs": [],
   "source": [
    "cat_bar_plot(project_df, 'LoanStatus', _order);"
   ]
  },
  {
   "cell_type": "markdown",
   "metadata": {
    "collapsed": true,
    "slideshow": {
     "slide_type": "slide"
    }
   },
   "source": [
    "## Employment Status\n",
    "\n",
    "2nd Observation:\n",
    "\n",
    "* As expected, people who are Employed are the majority and Not-Employed are the least.\n",
    "* From the rest of the minorities, the Full-time is the highest."
   ]
  },
  {
   "cell_type": "code",
   "execution_count": null,
   "metadata": {
    "slideshow": {
     "slide_type": "slide"
    }
   },
   "outputs": [],
   "source": [
    "cat_bar_plot(project_df, 'EmploymentStatus', project_df['EmploymentStatus'].value_counts().index)"
   ]
  },
  {
   "cell_type": "markdown",
   "metadata": {
    "slideshow": {
     "slide_type": "slide"
    }
   },
   "source": [
    "## Stated Monthly Income\n",
    "\n",
    "3rd Observation:\n",
    "\n",
    "* The Monthly Income is right skewed and the its peak is at 4000"
   ]
  },
  {
   "cell_type": "code",
   "execution_count": null,
   "metadata": {
    "slideshow": {
     "slide_type": "slide"
    }
   },
   "outputs": [],
   "source": [
    "plt.hist(data=project_df, x='StatedMonthlyIncome', bins=100);\n",
    "plt.xlim(0,15000);\n",
    "plt.xlabel('Stated Monthly Income')\n",
    "plt.ylabel('Count');\n",
    "plt.title('Stated Monthly Income')"
   ]
  },
  {
   "cell_type": "code",
   "execution_count": null,
   "metadata": {
    "slideshow": {
     "slide_type": "skip"
    }
   },
   "outputs": [],
   "source": [
    "# Separating Loan Status\n",
    "project_df= project_df.loc[(project_df['LoanStatus'] == \"Defaulted\") | (project_df['LoanStatus'] == \"Chargedoff\") | \\\n",
    "                           (project_df['LoanStatus'] == \"Completed\")]\n",
    "\n",
    "# Change the word Chargedoff to Defaulted\n",
    "project_df[\"LoanStatus\"]= project_df[\"LoanStatus\"].str.replace(\"Chargedoff\", \"Defaulted\", case = False)"
   ]
  },
  {
   "cell_type": "code",
   "execution_count": null,
   "metadata": {
    "slideshow": {
     "slide_type": "skip"
    }
   },
   "outputs": [],
   "source": [
    "# rechaping the loan categories to keep the highest categories and add the rest to the 'other'\n",
    "categories_dict = {1: 'Debt Consolidation', 2: 'Home Improvement', 3: 'Business', 6: 'Auto', 7: 'Other'}\n",
    "\n",
    "def categorize(df):\n",
    "    loan_category = df['ListingCategory (numeric)']\n",
    "    if  loan_category in categories_dict:\n",
    "        return categories_dict[loan_category]\n",
    "    else:\n",
    "        return categories_dict[7]\n",
    "    \n",
    "project_df['ListingCategory (numeric)'] = project_df.apply(categorize, axis=1)"
   ]
  },
  {
   "cell_type": "markdown",
   "metadata": {
    "slideshow": {
     "slide_type": "slide"
    }
   },
   "source": [
    "## Loan Status and Prosper Rating\n",
    "\n",
    "1st Observation:\n",
    "\n",
    "* The most frequent rating in the completed loans is AA\n",
    "* The most frequent rating in the defaulted loans is E"
   ]
  },
  {
   "cell_type": "code",
   "execution_count": null,
   "metadata": {
    "slideshow": {
     "slide_type": "slide"
    }
   },
   "outputs": [],
   "source": [
    "base_color = sb.color_palette()[0]\n",
    "sb.countplot(data=project_df, x='LoanStatus', hue='ProsperRating (Alpha)', \n",
    "             color=base_color);\n",
    "plt.title('Loan Status VS Prosper Rating');"
   ]
  },
  {
   "cell_type": "markdown",
   "metadata": {
    "slideshow": {
     "slide_type": "slide"
    }
   },
   "source": [
    "## Loan Status and Loan Amount\n",
    "\n",
    "2nd observation:\n",
    "\n",
    "* It looks like the defaulted loans are larger than the completed loans"
   ]
  },
  {
   "cell_type": "code",
   "execution_count": null,
   "metadata": {
    "slideshow": {
     "slide_type": "slide"
    }
   },
   "outputs": [],
   "source": [
    "sb.boxplot(data=project_df, x='LoanStatus', y='LoanOriginalAmount', \n",
    "           color= base_color);\n",
    "plt.title('Loan Status VS Loan Amount');"
   ]
  },
  {
   "cell_type": "markdown",
   "metadata": {
    "slideshow": {
     "slide_type": "slide"
    }
   },
   "source": [
    "### Emplyment Status, Loan Amount and Loan Status\n",
    "\n",
    "1st observation:\n",
    "\n",
    "* Defaulted loans are larger than completed loans\n",
    "* big loans tends to be for employed then self employed.\n",
    "* also some big loans were assigned to 'other' and its percentage of defaulted loans is high."
   ]
  },
  {
   "cell_type": "code",
   "execution_count": null,
   "metadata": {
    "slideshow": {
     "slide_type": "slide"
    }
   },
   "outputs": [],
   "source": [
    "plt.figure(figsize = [12, 8])\n",
    "sb.barplot(data=project_df, x='EmploymentStatus', y='LoanOriginalAmount', hue='LoanStatus', palette = 'Blues');\n",
    "plt.title('Emplyment Status vs Loan Amount vs Loan Status');"
   ]
  },
  {
   "cell_type": "markdown",
   "metadata": {
    "slideshow": {
     "slide_type": "slide"
    }
   },
   "source": [
    "## Listing Categories, Loan Amount and Loan Status\n",
    "\n",
    "2nd  observation:\n",
    "\n",
    "* Defaulted loans tends to be higher than completed loans in all categories\n",
    "* Business category seems to have the highest amount"
   ]
  },
  {
   "cell_type": "code",
   "execution_count": null,
   "metadata": {
    "slideshow": {
     "slide_type": "slide"
    }
   },
   "outputs": [],
   "source": [
    "sb.boxplot(data=project_df, x='ListingCategory (numeric)', y='LoanOriginalAmount', \n",
    "              hue='LoanStatus', palette = 'Blues');\n",
    "plt.title('Listing Categories vs Loan Amount vs Loan Status');"
   ]
  },
  {
   "cell_type": "markdown",
   "metadata": {
    "slideshow": {
     "slide_type": "slide"
    }
   },
   "source": [
    "## Listing Categories, Prosper Rating and Loan Status\n",
    "\n",
    "3rd observation:\n",
    "\n",
    "* the ratio between the defaulted and completed loans looks the same in all categories.\n",
    "\n"
   ]
  },
  {
   "cell_type": "code",
   "execution_count": null,
   "metadata": {
    "slideshow": {
     "slide_type": "skip"
    }
   },
   "outputs": [],
   "source": [
    "_order2= ['AA', 'A', 'B', 'C', 'D', 'E', 'HR'] # ordering the data"
   ]
  },
  {
   "cell_type": "code",
   "execution_count": null,
   "metadata": {
    "slideshow": {
     "slide_type": "slide"
    }
   },
   "outputs": [],
   "source": [
    "sb.catplot(x = 'ProsperRating (Alpha)', hue = 'LoanStatus', col = 'ListingCategory (numeric)',data = project_df,\n",
    "           kind = 'count', col_wrap = 3, palette = 'Blues', order= _order2);"
   ]
  },
  {
   "cell_type": "markdown",
   "metadata": {
    "slideshow": {
     "slide_type": "skip"
    }
   },
   "source": [
    ">**Generate Slideshow**: Once you're ready to generate your slideshow, use the `jupyter nbconvert` command to generate the HTML slide show. . From the terminal or command line, use the following expression."
   ]
  },
  {
   "cell_type": "code",
   "execution_count": null,
   "metadata": {
    "slideshow": {
     "slide_type": "skip"
    }
   },
   "outputs": [],
   "source": [
    "!jupyter nbconvert MS_slide_deck_explanatory.ipynb --to slides --post serve --no-input --no-prompt"
   ]
  },
  {
   "cell_type": "markdown",
   "metadata": {
    "slideshow": {
     "slide_type": "skip"
    }
   },
   "source": [
    "> This should open a tab in your web browser where you can scroll through your presentation. Sub-slides can be accessed by pressing 'down' when viewing its parent slide. Make sure you remove all of the quote-formatted guide notes like this one before you finish your presentation! At last, you can stop the Kernel. "
   ]
  }
 ],
 "metadata": {
  "celltoolbar": "Slideshow",
  "kernelspec": {
   "display_name": "Python 3 (ipykernel)",
   "language": "python",
   "name": "python3"
  },
  "language_info": {
   "codemirror_mode": {
    "name": "ipython",
    "version": 3
   },
   "file_extension": ".py",
   "mimetype": "text/x-python",
   "name": "python",
   "nbconvert_exporter": "python",
   "pygments_lexer": "ipython3",
   "version": "3.9.13"
  }
 },
 "nbformat": 4,
 "nbformat_minor": 2
}
